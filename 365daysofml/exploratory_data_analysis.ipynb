{
 "cells": [
  {
   "cell_type": "markdown",
   "id": "7f63321e-7bf3-4af5-8f06-aee3137cc171",
   "metadata": {},
   "source": [
    "### Table of Contents\n",
    "\n",
    "* [Section 1.1: Modules Import](#section_1_1)\n",
    "* [Section 1.2](#section_1_1)\n",
    "* [Section 1.3](#section_1_1)\n",
    "* [Section 1.4](#section_1_1)\n",
    "* [Section 1.5](#section_1_1)\n",
    "* [Section 1.6](#section_1_1)\n",
    "* [Section 1.7](#section_1_1)"
   ]
  },
  {
   "cell_type": "markdown",
   "id": "3148f5f0-4a64-4dbd-9b54-85addd2a69ed",
   "metadata": {},
   "source": [
    "#### Section 1: Modules Import <a class=\"anchor\" id=\"section_1_1\"></a>"
   ]
  },
  {
   "cell_type": "code",
   "execution_count": 2,
   "id": "cde94a9e-93e9-4ef5-a43b-18c94e93b9ad",
   "metadata": {},
   "outputs": [],
   "source": [
    "import pandas as pd\n",
    "import numpy as np"
   ]
  },
  {
   "cell_type": "code",
   "execution_count": null,
   "id": "5ceb4a4b-eb39-4bc3-bb98-e08ae44ca0bc",
   "metadata": {},
   "outputs": [],
   "source": []
  }
 ],
 "metadata": {
  "kernelspec": {
   "display_name": "Python 3",
   "language": "python",
   "name": "python3"
  },
  "language_info": {
   "codemirror_mode": {
    "name": "ipython",
    "version": 3
   },
   "file_extension": ".py",
   "mimetype": "text/x-python",
   "name": "python",
   "nbconvert_exporter": "python",
   "pygments_lexer": "ipython3",
   "version": "3.8.8"
  }
 },
 "nbformat": 4,
 "nbformat_minor": 5
}
