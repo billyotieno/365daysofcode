{
 "cells": [
  {
   "cell_type": "code",
   "execution_count": 1,
   "id": "f382b91f-aa97-4fb2-b39e-6c58d33d7298",
   "metadata": {},
   "outputs": [
    {
     "name": "stdout",
     "output_type": "stream",
     "text": [
      " Untitled.ipynb\n",
      "'White-bearded wildebeest in Kenya-accessory.csv'\n",
      "'White-bearded wildebeest in Kenya-gps.csv'\n",
      "'White-bearded wildebeest in Kenya-reference-data (1).csv'\n",
      "'White-bearded wildebeest in Kenya-reference-data.csv'\n"
     ]
    }
   ],
   "source": [
    "!ls"
   ]
  },
  {
   "cell_type": "code",
   "execution_count": 2,
   "id": "6d46f8ea-977d-4905-8f38-5d5488372198",
   "metadata": {},
   "outputs": [
    {
     "name": "stdout",
     "output_type": "stream",
     "text": [
      "event-id,visible,timestamp,external-temperature,tag-tech-spec,sensor-type,individual-taxon-canonical-name,tag-local-identifier,individual-local-identifier,study-name\n",
      "16534651719,true,2010-05-28 03:00:00.000,20.0,\"0:0\",\"accessory-measurements\",\"Connochaetes taurinus\",\"2830\",\"Naiba\",\"White-bearded wildebeest in Kenya\"\n",
      "16534651720,true,2010-05-28 03:05:00.000,19.0,\"0:0\",\"accessory-measurements\",\"Connochaetes taurinus\",\"2830\",\"Naiba\",\"White-bearded wildebeest in Kenya\"\n",
      "16534651721,true,2010-05-28 03:10:00.000,19.0,\"0:0\",\"accessory-measurements\",\"Connochaetes taurinus\",\"2830\",\"Naiba\",\"White-bearded wildebeest in Kenya\"\n",
      "16534651722,true,2010-05-28 03:15:00.000,19.0,\"0:0\",\"accessory-measurements\",\"Connochaetes taurinus\",\"2830\",\"Naiba\",\"White-bearded wildebeest in Kenya\"\n"
     ]
    }
   ],
   "source": [
    "!head -5 White-bearded\\ wildebeest\\ in\\ Kenya-accessory.csv"
   ]
  },
  {
   "cell_type": "code",
   "execution_count": 9,
   "id": "fb647e46-22f6-4d04-8395-298b1cf43228",
   "metadata": {},
   "outputs": [],
   "source": [
    "import os\n",
    "\n",
    "def rename_files_in_directory(directory=os.getcwd(), filetype=\"\"):\n",
    "    \"\"\" Function to rename files in a given directory based on the provided filetype/format\"\"\"\n",
    "    filenames = os.listdir(directory)\n",
    "    converted_filenames = []\n",
    "    \n",
    "    for filename in filenames:\n",
    "        if filename.endswith(\".csv\"):\n",
    "            os.rename(filename, filename.replace(\" \", \"-\").lower())\n",
    "            converted_filenames.append(filename)\n",
    "    return converted_filenames"
   ]
  },
  {
   "cell_type": "code",
   "execution_count": 10,
   "id": "5c42eec9-9536-491c-873e-34fcea370737",
   "metadata": {},
   "outputs": [
    {
     "data": {
      "text/plain": [
       "['White-bearded wildebeest in Kenya-reference-data (1).csv',\n",
       " 'White-bearded wildebeest in Kenya-gps.csv',\n",
       " 'White-bearded wildebeest in Kenya-accessory.csv',\n",
       " 'White-bearded wildebeest in Kenya-reference-data.csv']"
      ]
     },
     "execution_count": 10,
     "metadata": {},
     "output_type": "execute_result"
    }
   ],
   "source": [
    "rename_files_in_directory()"
   ]
  },
  {
   "cell_type": "code",
   "execution_count": 11,
   "id": "513a094d-a7a0-4de1-9d04-88b6ed0f6409",
   "metadata": {},
   "outputs": [
    {
     "name": "stdout",
     "output_type": "stream",
     "text": [
      " Untitled.ipynb\n",
      " white-bearded-wildebeest-in-kenya-accessory.csv\n",
      " white-bearded-wildebeest-in-kenya-gps.csv\n",
      "'white-bearded-wildebeest-in-kenya-reference-data-(1).csv'\n",
      " white-bearded-wildebeest-in-kenya-reference-data.csv\n"
     ]
    }
   ],
   "source": [
    "# Check for the Renamed Files in Directory\n",
    "!ls"
   ]
  },
  {
   "cell_type": "code",
   "execution_count": null,
   "id": "9b38e96d-c1b7-4d95-9b5b-1808bdcde4f7",
   "metadata": {},
   "outputs": [],
   "source": []
  }
 ],
 "metadata": {
  "kernelspec": {
   "display_name": "Python 3",
   "language": "python",
   "name": "python3"
  },
  "language_info": {
   "codemirror_mode": {
    "name": "ipython",
    "version": 3
   },
   "file_extension": ".py",
   "mimetype": "text/x-python",
   "name": "python",
   "nbconvert_exporter": "python",
   "pygments_lexer": "ipython3",
   "version": "3.8.8"
  }
 },
 "nbformat": 4,
 "nbformat_minor": 5
}
