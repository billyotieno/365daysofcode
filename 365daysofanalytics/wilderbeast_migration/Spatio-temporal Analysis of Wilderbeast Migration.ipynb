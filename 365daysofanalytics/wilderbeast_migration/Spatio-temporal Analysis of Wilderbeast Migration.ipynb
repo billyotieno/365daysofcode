{
 "cells": [
  {
   "cell_type": "code",
   "execution_count": 1,
   "id": "f382b91f-aa97-4fb2-b39e-6c58d33d7298",
   "metadata": {},
   "outputs": [
    {
     "name": "stdout",
     "output_type": "stream",
     "text": [
      " Untitled.ipynb\n",
      "'White-bearded wildebeest in Kenya-accessory.csv'\n",
      "'White-bearded wildebeest in Kenya-gps.csv'\n",
      "'White-bearded wildebeest in Kenya-reference-data (1).csv'\n",
      "'White-bearded wildebeest in Kenya-reference-data.csv'\n"
     ]
    }
   ],
   "source": [
    "!ls"
   ]
  },
  {
   "cell_type": "code",
   "execution_count": 2,
   "id": "6d46f8ea-977d-4905-8f38-5d5488372198",
   "metadata": {},
   "outputs": [
    {
     "name": "stdout",
     "output_type": "stream",
     "text": [
      "event-id,visible,timestamp,external-temperature,tag-tech-spec,sensor-type,individual-taxon-canonical-name,tag-local-identifier,individual-local-identifier,study-name\n",
      "16534651719,true,2010-05-28 03:00:00.000,20.0,\"0:0\",\"accessory-measurements\",\"Connochaetes taurinus\",\"2830\",\"Naiba\",\"White-bearded wildebeest in Kenya\"\n",
      "16534651720,true,2010-05-28 03:05:00.000,19.0,\"0:0\",\"accessory-measurements\",\"Connochaetes taurinus\",\"2830\",\"Naiba\",\"White-bearded wildebeest in Kenya\"\n",
      "16534651721,true,2010-05-28 03:10:00.000,19.0,\"0:0\",\"accessory-measurements\",\"Connochaetes taurinus\",\"2830\",\"Naiba\",\"White-bearded wildebeest in Kenya\"\n",
      "16534651722,true,2010-05-28 03:15:00.000,19.0,\"0:0\",\"accessory-measurements\",\"Connochaetes taurinus\",\"2830\",\"Naiba\",\"White-bearded wildebeest in Kenya\"\n"
     ]
    }
   ],
   "source": [
    "!head -5 White-bearded\\ wildebeest\\ in\\ Kenya-accessory.csv"
   ]
  },
  {
   "cell_type": "code",
   "execution_count": 9,
   "id": "fb647e46-22f6-4d04-8395-298b1cf43228",
   "metadata": {},
   "outputs": [],
   "source": [
    "import os\n",
    "\n",
    "def rename_files_in_directory(directory=os.getcwd(), filetype=\"\"):\n",
    "    \"\"\" Function to rename files in a given directory based on the provided filetype/format\"\"\"\n",
    "    filenames = os.listdir(directory)\n",
    "    converted_filenames = []\n",
    "    \n",
    "    for filename in filenames:\n",
    "        if filename.endswith(\".csv\"):\n",
    "            os.rename(filename, filename.replace(\" \", \"-\").lower())\n",
    "            converted_filenames.append(filename)\n",
    "    return converted_filenames"
   ]
  },
  {
   "cell_type": "code",
   "execution_count": 10,
   "id": "5c42eec9-9536-491c-873e-34fcea370737",
   "metadata": {},
   "outputs": [
    {
     "data": {
      "text/plain": [
       "['White-bearded wildebeest in Kenya-reference-data (1).csv',\n",
       " 'White-bearded wildebeest in Kenya-gps.csv',\n",
       " 'White-bearded wildebeest in Kenya-accessory.csv',\n",
       " 'White-bearded wildebeest in Kenya-reference-data.csv']"
      ]
     },
     "execution_count": 10,
     "metadata": {},
     "output_type": "execute_result"
    }
   ],
   "source": [
    "rename_files_in_directory()"
   ]
  },
  {
   "cell_type": "code",
   "execution_count": 11,
   "id": "513a094d-a7a0-4de1-9d04-88b6ed0f6409",
   "metadata": {},
   "outputs": [
    {
     "name": "stdout",
     "output_type": "stream",
     "text": [
      " Untitled.ipynb\n",
      " white-bearded-wildebeest-in-kenya-accessory.csv\n",
      " white-bearded-wildebeest-in-kenya-gps.csv\n",
      "'white-bearded-wildebeest-in-kenya-reference-data-(1).csv'\n",
      " white-bearded-wildebeest-in-kenya-reference-data.csv\n"
     ]
    }
   ],
   "source": [
    "# Check for the Renamed Files in Directory\n",
    "!ls"
   ]
  },
  {
   "cell_type": "code",
   "execution_count": 1,
   "id": "9b38e96d-c1b7-4d95-9b5b-1808bdcde4f7",
   "metadata": {},
   "outputs": [],
   "source": [
    "import pandas as pd\n",
    "import numpy as np"
   ]
  },
  {
   "cell_type": "code",
   "execution_count": 2,
   "id": "5a7509f3-7772-43c5-864a-3bd2c56dd230",
   "metadata": {},
   "outputs": [
    {
     "name": "stdout",
     "output_type": "stream",
     "text": [
      " data.zip\n",
      "'Spatio-temporal Analysis of Wilderbeast Migration.ipynb'\n",
      "'white-bearded-wildebeest-in-kenya-reference-data-(1).csv'\n",
      " white-bearded-wildebeest-in-kenya-reference-data.csv\n"
     ]
    }
   ],
   "source": [
    "!ls"
   ]
  },
  {
   "cell_type": "code",
   "execution_count": 3,
   "id": "1a7095bf-d1af-4aea-9908-5825949135f5",
   "metadata": {},
   "outputs": [
    {
     "name": "stdout",
     "output_type": "stream",
     "text": [
      "Archive:  data.zip\n",
      "  inflating: white-bearded-wildebeest-in-kenya-gps.csv  \n",
      "  inflating: white-bearded-wildebeest-in-kenya-accessory.csv  \n"
     ]
    }
   ],
   "source": [
    "!unzip data.zip"
   ]
  },
  {
   "cell_type": "code",
   "execution_count": 4,
   "id": "69496417-7230-42f1-9d6e-6e843e8a0f88",
   "metadata": {},
   "outputs": [
    {
     "name": "stdout",
     "output_type": "stream",
     "text": [
      " data.zip\n",
      "'Spatio-temporal Analysis of Wilderbeast Migration.ipynb'\n",
      " white-bearded-wildebeest-in-kenya-accessory.csv\n",
      " white-bearded-wildebeest-in-kenya-gps.csv\n",
      "'white-bearded-wildebeest-in-kenya-reference-data-(1).csv'\n",
      " white-bearded-wildebeest-in-kenya-reference-data.csv\n"
     ]
    }
   ],
   "source": [
    "!ls"
   ]
  },
  {
   "cell_type": "code",
   "execution_count": 5,
   "id": "d958a27c-73a7-438e-bdf1-1b37db5d1faf",
   "metadata": {},
   "outputs": [],
   "source": [
    "!rm data.zip"
   ]
  },
  {
   "cell_type": "code",
   "execution_count": 6,
   "id": "c436d054-4226-4109-9d01-1265bd48f8f7",
   "metadata": {},
   "outputs": [],
   "source": [
    "!rm 'white-bearded-wildebeest-in-kenya-reference-data-(1).csv'"
   ]
  },
  {
   "cell_type": "code",
   "execution_count": 7,
   "id": "61a0a42d-cc19-4d0e-9c69-147224496e1d",
   "metadata": {},
   "outputs": [
    {
     "name": "stdout",
     "output_type": "stream",
     "text": [
      "'Spatio-temporal Analysis of Wilderbeast Migration.ipynb'\n",
      " white-bearded-wildebeest-in-kenya-accessory.csv\n",
      " white-bearded-wildebeest-in-kenya-gps.csv\n",
      " white-bearded-wildebeest-in-kenya-reference-data.csv\n"
     ]
    }
   ],
   "source": [
    "!ls"
   ]
  },
  {
   "cell_type": "code",
   "execution_count": 17,
   "id": "d9c9d6ce-b16b-4a61-b3c7-dd95053ab958",
   "metadata": {},
   "outputs": [],
   "source": [
    "import os\n",
    "def read_csv_files_into_parquet(directory=os.getcwd()):\n",
    "    filenames = os.listdir(directory)\n",
    "    converted_filenames = []\n",
    "    \n",
    "    for filename in filenames:\n",
    "        if filename.endswith(\".csv\"):\n",
    "            filename_df = pd.read_csv(filename)\n",
    "            filename_df.to_parquet(f'{filename}.parquet.gzip', compression='gzip')\n",
    "            \n",
    "            #Remove file from directory\n",
    "            os.remove(filename)\n",
    "    return converted_filenames"
   ]
  },
  {
   "cell_type": "code",
   "execution_count": 18,
   "id": "b429db34-9a05-47d8-a6e7-dec8c052cacc",
   "metadata": {},
   "outputs": [
    {
     "name": "stdout",
     "output_type": "stream",
     "text": [
      "'Spatio-temporal Analysis of Wilderbeast Migration.ipynb'\n",
      " white-bearded-wildebeest-in-kenya-accessory.csv\n",
      " white-bearded-wildebeest-in-kenya-gps.csv\n",
      " white-bearded-wildebeest-in-kenya-reference-data.csv\n"
     ]
    }
   ],
   "source": [
    "!ls"
   ]
  },
  {
   "cell_type": "code",
   "execution_count": 19,
   "id": "93420373-2cae-45f2-a0d0-233b22799339",
   "metadata": {},
   "outputs": [
    {
     "data": {
      "text/plain": [
       "[]"
      ]
     },
     "execution_count": 19,
     "metadata": {},
     "output_type": "execute_result"
    }
   ],
   "source": [
    "read_csv_files_into_parquet()"
   ]
  },
  {
   "cell_type": "code",
   "execution_count": 20,
   "id": "a9b7a4ca-6fbd-4a6b-9bfc-9d48300213d1",
   "metadata": {},
   "outputs": [
    {
     "name": "stdout",
     "output_type": "stream",
     "text": [
      "'Spatio-temporal Analysis of Wilderbeast Migration.ipynb'\n",
      " white-bearded-wildebeest-in-kenya-accessory.csv.parquet.gzip\n",
      " white-bearded-wildebeest-in-kenya-gps.csv.parquet.gzip\n",
      " white-bearded-wildebeest-in-kenya-reference-data.csv.parquet.gzip\n"
     ]
    }
   ],
   "source": [
    "!ls"
   ]
  },
  {
   "cell_type": "code",
   "execution_count": null,
   "id": "e4cd5206-728a-433a-a19f-8204812aeb19",
   "metadata": {},
   "outputs": [],
   "source": []
  }
 ],
 "metadata": {
  "kernelspec": {
   "display_name": "Python 3",
   "language": "python",
   "name": "python3"
  },
  "language_info": {
   "codemirror_mode": {
    "name": "ipython",
    "version": 3
   },
   "file_extension": ".py",
   "mimetype": "text/x-python",
   "name": "python",
   "nbconvert_exporter": "python",
   "pygments_lexer": "ipython3",
   "version": "3.8.8"
  }
 },
 "nbformat": 4,
 "nbformat_minor": 5
}
