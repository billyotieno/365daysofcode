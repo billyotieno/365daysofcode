{
 "cells": [
  {
   "cell_type": "code",
   "execution_count": 29,
   "id": "fb647e46-22f6-4d04-8395-298b1cf43228",
   "metadata": {},
   "outputs": [],
   "source": [
    "import os\n",
    "import pandas as pd\n",
    "import numpy as np\n",
    "import matplotlib.pyplot as plt\n",
    "import seaborn as sns\n",
    "import pyarrow\n",
    "\n",
    "def rename_files_in_directory(directory=os.getcwd(), filetype=\"\"):\n",
    "    \"\"\" Function to rename files in a given directory based on the provided filetype/format\"\"\"\n",
    "    filenames = os.listdir(directory)\n",
    "    converted_filenames = []\n",
    "    \n",
    "    for filename in filenames:\n",
    "        if filename.endswith(\".csv\"):\n",
    "            os.rename(filename, filename.replace(\" \", \"-\").lower())\n",
    "            converted_filenames.append(filename)\n",
    "    return converted_filenames"
   ]
  },
  {
   "cell_type": "code",
   "execution_count": 30,
   "id": "5c42eec9-9536-491c-873e-34fcea370737",
   "metadata": {},
   "outputs": [
    {
     "data": {
      "text/plain": "[]"
     },
     "execution_count": 30,
     "metadata": {},
     "output_type": "execute_result"
    }
   ],
   "source": [
    "rename_files_in_directory()"
   ]
  },
  {
   "cell_type": "code",
   "execution_count": 31,
   "id": "d9c9d6ce-b16b-4a61-b3c7-dd95053ab958",
   "metadata": {
    "pycharm": {
     "name": "#%%\n"
    }
   },
   "outputs": [],
   "source": [
    "def read_csv_files_into_parquet(directory=os.getcwd()):\n",
    "    filenames = os.listdir(directory)\n",
    "    converted_filenames = []\n",
    "    \n",
    "    for filename in filenames:\n",
    "        if filename.endswith(\".csv\"):\n",
    "            filename_df = pd.read_csv(filename)\n",
    "            filename_df.to_parquet(f'{filename}.parquet.gzip', compression='gzip')\n",
    "            \n",
    "            #Remove file from directory\n",
    "            os.remove(filename)\n",
    "    return converted_filenames"
   ]
  },
  {
   "cell_type": "code",
   "execution_count": 32,
   "outputs": [
    {
     "name": "stdout",
     "output_type": "stream",
     "text": [
      " Volume in drive D is DATA\n",
      " Volume Serial Number is AE12-7ACB\n",
      "\n",
      " Directory of D:\\PythonProjects\\365daysofcode\\365daysofcode\\365daysofanalytics\\wilderbeast_migration\n",
      "\n",
      "09/01/2021  09:52 AM    <DIR>          .\n",
      "09/01/2021  09:03 AM    <DIR>          ..\n",
      "09/01/2021  09:03 AM    <DIR>          .ipynb_checkpoints\n",
      "09/01/2021  09:52 AM             2,736 Spatio-temporal Analysis of Wilderbeast Migration.ipynb\n",
      "09/01/2021  09:03 AM         6,845,411 white-bearded-wildebeest-in-kenya-accessory.csv.parquet.gzip\n",
      "09/01/2021  09:03 AM         6,310,035 white-bearded-wildebeest-in-kenya-gps.csv.parquet.gzip\n",
      "09/01/2021  09:03 AM            16,428 white-bearded-wildebeest-in-kenya-reference-data.csv.parquet.gzip\n",
      "               4 File(s)     13,174,610 bytes\n",
      "               3 Dir(s)  970,486,579,200 bytes free\n"
     ]
    }
   ],
   "source": [
    "!dir"
   ],
   "metadata": {
    "collapsed": false,
    "pycharm": {
     "name": "#%%\n"
    }
   }
  },
  {
   "cell_type": "code",
   "execution_count": 39,
   "outputs": [
    {
     "data": {
      "text/plain": "      event-id  visible                timestamp  external-temperature  \\\n0  16534651719     True  2010-05-28 03:00:00.000                  20.0   \n1  16534651720     True  2010-05-28 03:05:00.000                  19.0   \n2  16534651721     True  2010-05-28 03:10:00.000                  19.0   \n3  16534651722     True  2010-05-28 03:15:00.000                  19.0   \n4  16534651723     True  2010-05-28 03:20:00.000                  19.0   \n\n  tag-tech-spec             sensor-type individual-taxon-canonical-name  \\\n0           0:0  accessory-measurements           Connochaetes taurinus   \n1           0:0  accessory-measurements           Connochaetes taurinus   \n2           0:0  accessory-measurements           Connochaetes taurinus   \n3           0:0  accessory-measurements           Connochaetes taurinus   \n4           0:0  accessory-measurements           Connochaetes taurinus   \n\n   tag-local-identifier individual-local-identifier  \\\n0                  2830                       Naiba   \n1                  2830                       Naiba   \n2                  2830                       Naiba   \n3                  2830                       Naiba   \n4                  2830                       Naiba   \n\n                          study-name  \n0  White-bearded wildebeest in Kenya  \n1  White-bearded wildebeest in Kenya  \n2  White-bearded wildebeest in Kenya  \n3  White-bearded wildebeest in Kenya  \n4  White-bearded wildebeest in Kenya  ",
      "text/html": "<div>\n<style scoped>\n    .dataframe tbody tr th:only-of-type {\n        vertical-align: middle;\n    }\n\n    .dataframe tbody tr th {\n        vertical-align: top;\n    }\n\n    .dataframe thead th {\n        text-align: right;\n    }\n</style>\n<table border=\"1\" class=\"dataframe\">\n  <thead>\n    <tr style=\"text-align: right;\">\n      <th></th>\n      <th>event-id</th>\n      <th>visible</th>\n      <th>timestamp</th>\n      <th>external-temperature</th>\n      <th>tag-tech-spec</th>\n      <th>sensor-type</th>\n      <th>individual-taxon-canonical-name</th>\n      <th>tag-local-identifier</th>\n      <th>individual-local-identifier</th>\n      <th>study-name</th>\n    </tr>\n  </thead>\n  <tbody>\n    <tr>\n      <th>0</th>\n      <td>16534651719</td>\n      <td>True</td>\n      <td>2010-05-28 03:00:00.000</td>\n      <td>20.0</td>\n      <td>0:0</td>\n      <td>accessory-measurements</td>\n      <td>Connochaetes taurinus</td>\n      <td>2830</td>\n      <td>Naiba</td>\n      <td>White-bearded wildebeest in Kenya</td>\n    </tr>\n    <tr>\n      <th>1</th>\n      <td>16534651720</td>\n      <td>True</td>\n      <td>2010-05-28 03:05:00.000</td>\n      <td>19.0</td>\n      <td>0:0</td>\n      <td>accessory-measurements</td>\n      <td>Connochaetes taurinus</td>\n      <td>2830</td>\n      <td>Naiba</td>\n      <td>White-bearded wildebeest in Kenya</td>\n    </tr>\n    <tr>\n      <th>2</th>\n      <td>16534651721</td>\n      <td>True</td>\n      <td>2010-05-28 03:10:00.000</td>\n      <td>19.0</td>\n      <td>0:0</td>\n      <td>accessory-measurements</td>\n      <td>Connochaetes taurinus</td>\n      <td>2830</td>\n      <td>Naiba</td>\n      <td>White-bearded wildebeest in Kenya</td>\n    </tr>\n    <tr>\n      <th>3</th>\n      <td>16534651722</td>\n      <td>True</td>\n      <td>2010-05-28 03:15:00.000</td>\n      <td>19.0</td>\n      <td>0:0</td>\n      <td>accessory-measurements</td>\n      <td>Connochaetes taurinus</td>\n      <td>2830</td>\n      <td>Naiba</td>\n      <td>White-bearded wildebeest in Kenya</td>\n    </tr>\n    <tr>\n      <th>4</th>\n      <td>16534651723</td>\n      <td>True</td>\n      <td>2010-05-28 03:20:00.000</td>\n      <td>19.0</td>\n      <td>0:0</td>\n      <td>accessory-measurements</td>\n      <td>Connochaetes taurinus</td>\n      <td>2830</td>\n      <td>Naiba</td>\n      <td>White-bearded wildebeest in Kenya</td>\n    </tr>\n  </tbody>\n</table>\n</div>"
     },
     "execution_count": 39,
     "metadata": {},
     "output_type": "execute_result"
    }
   ],
   "source": [
    "accessory_data = pd.read_parquet(\"white-bearded-wildebeest-in-kenya-accessory.csv.parquet.gzip\")\n",
    "accessory_data.head()"
   ],
   "metadata": {
    "collapsed": false,
    "pycharm": {
     "name": "#%%\n"
    }
   }
  },
  {
   "cell_type": "code",
   "execution_count": 40,
   "outputs": [
    {
     "name": "stdout",
     "output_type": "stream",
     "text": [
      "<class 'pandas.core.frame.DataFrame'>\n",
      "RangeIndex: 1221573 entries, 0 to 1221572\n",
      "Data columns (total 10 columns):\n",
      " #   Column                           Non-Null Count    Dtype  \n",
      "---  ------                           --------------    -----  \n",
      " 0   event-id                         1221573 non-null  int64  \n",
      " 1   visible                          1221573 non-null  bool   \n",
      " 2   timestamp                        1221573 non-null  object \n",
      " 3   external-temperature             1221573 non-null  float64\n",
      " 4   tag-tech-spec                    1221573 non-null  object \n",
      " 5   sensor-type                      1221573 non-null  object \n",
      " 6   individual-taxon-canonical-name  1221573 non-null  object \n",
      " 7   tag-local-identifier             1221573 non-null  int64  \n",
      " 8   individual-local-identifier      1221573 non-null  object \n",
      " 9   study-name                       1221573 non-null  object \n",
      "dtypes: bool(1), float64(1), int64(2), object(6)\n",
      "memory usage: 85.0+ MB\n"
     ]
    }
   ],
   "source": [
    "accessory_data.info()"
   ],
   "metadata": {
    "collapsed": false,
    "pycharm": {
     "name": "#%%\n"
    }
   }
  },
  {
   "cell_type": "code",
   "execution_count": 41,
   "outputs": [
    {
     "data": {
      "text/plain": "16536759370    1\n16535621019    1\n16535625113    1\n16535643542    1\n16535645591    1\n              ..\n16536375799    1\n16536373748    1\n16536386034    1\n16536383987    1\n16536761053    1\nName: event-id, Length: 1221573, dtype: int64"
     },
     "execution_count": 41,
     "metadata": {},
     "output_type": "execute_result"
    }
   ],
   "source": [
    "accessory_data['event-id'].value_counts()"
   ],
   "metadata": {
    "collapsed": false,
    "pycharm": {
     "name": "#%%\n"
    }
   }
  },
  {
   "cell_type": "code",
   "execution_count": 45,
   "outputs": [],
   "source": [
    "gps_data = pd.read_parquet('white-bearded-wildebeest-in-kenya-gps.csv.parquet.gzip')"
   ],
   "metadata": {
    "collapsed": false,
    "pycharm": {
     "name": "#%%\n"
    }
   }
  },
  {
   "cell_type": "code",
   "execution_count": 46,
   "outputs": [
    {
     "data": {
      "text/plain": "      event-id  visible                timestamp  location-long  location-lat  \\\n0  14749094722     True  2010-05-28 06:00:00.000      35.308732     -1.343131   \n1  14749094723     True  2010-05-28 07:00:00.000      35.308235     -1.343053   \n2  14749094724     True  2010-05-28 08:01:00.000      35.308345     -1.342889   \n3  14749094725     True  2010-05-28 09:00:00.000      35.308515     -1.343341   \n4  14749094726     True  2010-05-28 10:00:00.000      35.307627     -1.342810   \n\n   external-temperature  gps:dop gps:fix-type-raw  height-above-ellipsoid  \\\n0                  21.0      4.6               3D                 1773.48   \n1                  23.0      7.2               3D                 1756.18   \n2                  25.0      3.4               3D                 1764.42   \n3                  27.0      4.4               3D                 1763.08   \n4                  28.0      3.4               3D                 1754.19   \n\n   tag-voltage sensor-type individual-taxon-canonical-name  \\\n0       3360.0         gps           Connochaetes taurinus   \n1       3360.0         gps           Connochaetes taurinus   \n2       3360.0         gps           Connochaetes taurinus   \n3       3360.0         gps           Connochaetes taurinus   \n4       3360.0         gps           Connochaetes taurinus   \n\n   tag-local-identifier individual-local-identifier  \\\n0                  2829                    Naboisho   \n1                  2829                    Naboisho   \n2                  2829                    Naboisho   \n3                  2829                    Naboisho   \n4                  2829                    Naboisho   \n\n                          study-name  \n0  White-bearded wildebeest in Kenya  \n1  White-bearded wildebeest in Kenya  \n2  White-bearded wildebeest in Kenya  \n3  White-bearded wildebeest in Kenya  \n4  White-bearded wildebeest in Kenya  ",
      "text/html": "<div>\n<style scoped>\n    .dataframe tbody tr th:only-of-type {\n        vertical-align: middle;\n    }\n\n    .dataframe tbody tr th {\n        vertical-align: top;\n    }\n\n    .dataframe thead th {\n        text-align: right;\n    }\n</style>\n<table border=\"1\" class=\"dataframe\">\n  <thead>\n    <tr style=\"text-align: right;\">\n      <th></th>\n      <th>event-id</th>\n      <th>visible</th>\n      <th>timestamp</th>\n      <th>location-long</th>\n      <th>location-lat</th>\n      <th>external-temperature</th>\n      <th>gps:dop</th>\n      <th>gps:fix-type-raw</th>\n      <th>height-above-ellipsoid</th>\n      <th>tag-voltage</th>\n      <th>sensor-type</th>\n      <th>individual-taxon-canonical-name</th>\n      <th>tag-local-identifier</th>\n      <th>individual-local-identifier</th>\n      <th>study-name</th>\n    </tr>\n  </thead>\n  <tbody>\n    <tr>\n      <th>0</th>\n      <td>14749094722</td>\n      <td>True</td>\n      <td>2010-05-28 06:00:00.000</td>\n      <td>35.308732</td>\n      <td>-1.343131</td>\n      <td>21.0</td>\n      <td>4.6</td>\n      <td>3D</td>\n      <td>1773.48</td>\n      <td>3360.0</td>\n      <td>gps</td>\n      <td>Connochaetes taurinus</td>\n      <td>2829</td>\n      <td>Naboisho</td>\n      <td>White-bearded wildebeest in Kenya</td>\n    </tr>\n    <tr>\n      <th>1</th>\n      <td>14749094723</td>\n      <td>True</td>\n      <td>2010-05-28 07:00:00.000</td>\n      <td>35.308235</td>\n      <td>-1.343053</td>\n      <td>23.0</td>\n      <td>7.2</td>\n      <td>3D</td>\n      <td>1756.18</td>\n      <td>3360.0</td>\n      <td>gps</td>\n      <td>Connochaetes taurinus</td>\n      <td>2829</td>\n      <td>Naboisho</td>\n      <td>White-bearded wildebeest in Kenya</td>\n    </tr>\n    <tr>\n      <th>2</th>\n      <td>14749094724</td>\n      <td>True</td>\n      <td>2010-05-28 08:01:00.000</td>\n      <td>35.308345</td>\n      <td>-1.342889</td>\n      <td>25.0</td>\n      <td>3.4</td>\n      <td>3D</td>\n      <td>1764.42</td>\n      <td>3360.0</td>\n      <td>gps</td>\n      <td>Connochaetes taurinus</td>\n      <td>2829</td>\n      <td>Naboisho</td>\n      <td>White-bearded wildebeest in Kenya</td>\n    </tr>\n    <tr>\n      <th>3</th>\n      <td>14749094725</td>\n      <td>True</td>\n      <td>2010-05-28 09:00:00.000</td>\n      <td>35.308515</td>\n      <td>-1.343341</td>\n      <td>27.0</td>\n      <td>4.4</td>\n      <td>3D</td>\n      <td>1763.08</td>\n      <td>3360.0</td>\n      <td>gps</td>\n      <td>Connochaetes taurinus</td>\n      <td>2829</td>\n      <td>Naboisho</td>\n      <td>White-bearded wildebeest in Kenya</td>\n    </tr>\n    <tr>\n      <th>4</th>\n      <td>14749094726</td>\n      <td>True</td>\n      <td>2010-05-28 10:00:00.000</td>\n      <td>35.307627</td>\n      <td>-1.342810</td>\n      <td>28.0</td>\n      <td>3.4</td>\n      <td>3D</td>\n      <td>1754.19</td>\n      <td>3360.0</td>\n      <td>gps</td>\n      <td>Connochaetes taurinus</td>\n      <td>2829</td>\n      <td>Naboisho</td>\n      <td>White-bearded wildebeest in Kenya</td>\n    </tr>\n  </tbody>\n</table>\n</div>"
     },
     "execution_count": 46,
     "metadata": {},
     "output_type": "execute_result"
    }
   ],
   "source": [
    "gps_data.head()"
   ],
   "metadata": {
    "collapsed": false,
    "pycharm": {
     "name": "#%%\n"
    }
   }
  },
  {
   "cell_type": "code",
   "execution_count": 48,
   "outputs": [
    {
     "name": "stdout",
     "output_type": "stream",
     "text": [
      "<class 'pandas.core.frame.DataFrame'>\n",
      "RangeIndex: 279082 entries, 0 to 279081\n",
      "Data columns (total 15 columns):\n",
      " #   Column                           Non-Null Count   Dtype  \n",
      "---  ------                           --------------   -----  \n",
      " 0   event-id                         279082 non-null  int64  \n",
      " 1   visible                          279082 non-null  bool   \n",
      " 2   timestamp                        279082 non-null  object \n",
      " 3   location-long                    279082 non-null  float64\n",
      " 4   location-lat                     279082 non-null  float64\n",
      " 5   external-temperature             279082 non-null  float64\n",
      " 6   gps:dop                          279082 non-null  float64\n",
      " 7   gps:fix-type-raw                 279082 non-null  object \n",
      " 8   height-above-ellipsoid           279082 non-null  float64\n",
      " 9   tag-voltage                      279082 non-null  float64\n",
      " 10  sensor-type                      279082 non-null  object \n",
      " 11  individual-taxon-canonical-name  279082 non-null  object \n",
      " 12  tag-local-identifier             279082 non-null  int64  \n",
      " 13  individual-local-identifier      279082 non-null  object \n",
      " 14  study-name                       279082 non-null  object \n",
      "dtypes: bool(1), float64(6), int64(2), object(6)\n",
      "memory usage: 30.1+ MB\n"
     ]
    }
   ],
   "source": [
    "gps_data.info()"
   ],
   "metadata": {
    "collapsed": false,
    "pycharm": {
     "name": "#%%\n"
    }
   }
  },
  {
   "cell_type": "code",
   "execution_count": 49,
   "outputs": [
    {
     "data": {
      "text/plain": "Naserian         14870\nNagol            14733\nNentepesi        12667\nKiranto          12577\nPeria            12376\nNtishya          11789\nNoontare         11736\nFifteen          11603\nNaboisho         11534\nNenkitirua       11522\nKayioni          11413\nReiyo            11105\nPaita            11078\nNeatoo           11070\nKikaya           10758\nNaisula           8710\nLengaruani        8505\nNesimei           7991\nLaingoni          7787\nNeMpaash          7340\nLedama            7188\nOlope             6849\nKarbolo           6053\nSotua             4793\nNkoko             4623\nKoyiaki           4404\nNkairowua         4328\nLempaash          4122\nSawani            3567\nLeporana          3535\nMotorogi          2863\nNenkonguNarok     1934\nNaiba             1311\nOleNagol          1107\nLerisa            1002\nTaletian           239\nName: individual-local-identifier, dtype: int64"
     },
     "execution_count": 49,
     "metadata": {},
     "output_type": "execute_result"
    }
   ],
   "source": [
    "gps_data['individual-local-identifier'].value_counts()"
   ],
   "metadata": {
    "collapsed": false,
    "pycharm": {
     "name": "#%%\n"
    }
   }
  },
  {
   "cell_type": "code",
   "execution_count": null,
   "outputs": [],
   "source": [],
   "metadata": {
    "collapsed": false,
    "pycharm": {
     "name": "#%%\n"
    }
   }
  }
 ],
 "metadata": {
  "kernelspec": {
   "display_name": "Python 3",
   "language": "python",
   "name": "python3"
  },
  "language_info": {
   "codemirror_mode": {
    "name": "ipython",
    "version": 3
   },
   "file_extension": ".py",
   "mimetype": "text/x-python",
   "name": "python",
   "nbconvert_exporter": "python",
   "pygments_lexer": "ipython3",
   "version": "3.8.8"
  }
 },
 "nbformat": 4,
 "nbformat_minor": 5
}